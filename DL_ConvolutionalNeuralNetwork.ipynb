{
 "cells": [
  {
   "cell_type": "code",
   "execution_count": 104,
   "metadata": {},
   "outputs": [],
   "source": [
    "#!pip install --upgrade tensorflow\n",
    "#!pip install keras\n",
    "#!pip install opencv-python"
   ]
  },
  {
   "cell_type": "code",
   "execution_count": 106,
   "metadata": {},
   "outputs": [],
   "source": [
    "import tensorflow as tf\n",
    "from keras.preprocessing.image import ImageDataGenerator"
   ]
  },
  {
   "cell_type": "code",
   "execution_count": 107,
   "metadata": {},
   "outputs": [
    {
     "data": {
      "text/plain": [
       "'2.6.0'"
      ]
     },
     "execution_count": 107,
     "metadata": {},
     "output_type": "execute_result"
    }
   ],
   "source": [
    "tf.__version__"
   ]
  },
  {
   "cell_type": "code",
   "execution_count": 108,
   "metadata": {},
   "outputs": [
    {
     "name": "stdout",
     "output_type": "stream",
     "text": [
      "Found 8000 images belonging to 2 classes.\n"
     ]
    }
   ],
   "source": [
    "#preprocessing the training set\n",
    "train_datagen = ImageDataGenerator(rescale = 1./255,\n",
    "                                   shear_range = 0.2,\n",
    "                                   zoom_range = 0.2,\n",
    "                                   horizontal_flip = True)\n",
    "training_set = train_datagen.flow_from_directory('CNN/dataset/training_set',\n",
    "                                                 target_size = (64, 64),\n",
    "                                                 batch_size = 32,\n",
    "                                                 class_mode = 'binary')"
   ]
  },
  {
   "cell_type": "code",
   "execution_count": 109,
   "metadata": {},
   "outputs": [
    {
     "name": "stdout",
     "output_type": "stream",
     "text": [
      "Found 2000 images belonging to 2 classes.\n"
     ]
    }
   ],
   "source": [
    "#Preprocessing the test set\n",
    "test_datagen = ImageDataGenerator(rescale = 1./255)\n",
    "test_set = test_datagen.flow_from_directory('CNN/dataset/test_set',\n",
    "                                            target_size = (64, 64),\n",
    "                                            batch_size = 32,\n",
    "                                            class_mode = 'binary')"
   ]
  },
  {
   "cell_type": "code",
   "execution_count": 110,
   "metadata": {},
   "outputs": [],
   "source": [
    "#Initializing CNN\n",
    "cnn = tf.keras.models.Sequential()"
   ]
  },
  {
   "cell_type": "code",
   "execution_count": 111,
   "metadata": {},
   "outputs": [],
   "source": [
    "#Step1-Convolution layer \n",
    "cnn.add(tf.keras.layers.Conv2D(filters=32, kernel_size=3, activation='relu', input_shape=[64, 64, 3]))"
   ]
  },
  {
   "cell_type": "code",
   "execution_count": 112,
   "metadata": {},
   "outputs": [],
   "source": [
    "#Step2-Pooling\n",
    "cnn.add(tf.keras.layers.MaxPool2D(pool_size=2, strides=2))"
   ]
  },
  {
   "cell_type": "code",
   "execution_count": 113,
   "metadata": {},
   "outputs": [],
   "source": [
    "#Adding second convolution layer\n",
    "cnn.add(tf.keras.layers.Conv2D(filters=32, kernel_size=3, activation='relu'))\n",
    "cnn.add(tf.keras.layers.MaxPool2D(pool_size=2, strides=2))"
   ]
  },
  {
   "cell_type": "code",
   "execution_count": 114,
   "metadata": {},
   "outputs": [],
   "source": [
    "#Step3-Flattening to a 1D vector\n",
    "cnn.add(tf.keras.layers.Flatten())"
   ]
  },
  {
   "cell_type": "code",
   "execution_count": 115,
   "metadata": {},
   "outputs": [],
   "source": [
    "#Step4-Full connection\n",
    "cnn.add(tf.keras.layers.Dense(units=128, activation='relu'))"
   ]
  },
  {
   "cell_type": "code",
   "execution_count": 116,
   "metadata": {},
   "outputs": [],
   "source": [
    "#Step5-Output layer\n",
    "cnn.add(tf.keras.layers.Dense(units=1, activation='sigmoid'))"
   ]
  },
  {
   "cell_type": "code",
   "execution_count": 117,
   "metadata": {},
   "outputs": [],
   "source": [
    "#Compiling the CNN\n",
    "cnn.compile(optimizer = 'adam', loss = 'binary_crossentropy', metrics = ['accuracy'])"
   ]
  },
  {
   "cell_type": "code",
   "execution_count": 118,
   "metadata": {},
   "outputs": [
    {
     "name": "stdout",
     "output_type": "stream",
     "text": [
      "Epoch 1/25\n",
      "250/250 [==============================] - 100s 396ms/step - loss: 0.6439 - accuracy: 0.6162 - val_loss: 0.6273 - val_accuracy: 0.6545\n",
      "Epoch 2/25\n",
      "250/250 [==============================] - 45s 179ms/step - loss: 0.5830 - accuracy: 0.6915 - val_loss: 0.5456 - val_accuracy: 0.7220\n",
      "Epoch 3/25\n",
      "250/250 [==============================] - 48s 191ms/step - loss: 0.5395 - accuracy: 0.7261 - val_loss: 0.5242 - val_accuracy: 0.7455\n",
      "Epoch 4/25\n",
      "250/250 [==============================] - 49s 197ms/step - loss: 0.5214 - accuracy: 0.7446 - val_loss: 0.5052 - val_accuracy: 0.7535\n",
      "Epoch 5/25\n",
      "250/250 [==============================] - 50s 199ms/step - loss: 0.4942 - accuracy: 0.7581 - val_loss: 0.5244 - val_accuracy: 0.7430\n",
      "Epoch 6/25\n",
      "250/250 [==============================] - 52s 207ms/step - loss: 0.4922 - accuracy: 0.7617 - val_loss: 0.5087 - val_accuracy: 0.7530\n",
      "Epoch 7/25\n",
      "250/250 [==============================] - 50s 199ms/step - loss: 0.4639 - accuracy: 0.7776 - val_loss: 0.5562 - val_accuracy: 0.7310\n",
      "Epoch 8/25\n",
      "250/250 [==============================] - 51s 204ms/step - loss: 0.4571 - accuracy: 0.7810 - val_loss: 0.4651 - val_accuracy: 0.7865\n",
      "Epoch 9/25\n",
      "250/250 [==============================] - 46s 183ms/step - loss: 0.4315 - accuracy: 0.7996 - val_loss: 0.4653 - val_accuracy: 0.7845\n",
      "Epoch 10/25\n",
      "250/250 [==============================] - 45s 179ms/step - loss: 0.4225 - accuracy: 0.8002 - val_loss: 0.4619 - val_accuracy: 0.7935\n",
      "Epoch 11/25\n",
      "250/250 [==============================] - 43s 174ms/step - loss: 0.4117 - accuracy: 0.8121 - val_loss: 0.4658 - val_accuracy: 0.7920\n",
      "Epoch 12/25\n",
      "250/250 [==============================] - 43s 174ms/step - loss: 0.3985 - accuracy: 0.8164 - val_loss: 0.4476 - val_accuracy: 0.7940\n",
      "Epoch 13/25\n",
      "250/250 [==============================] - 43s 173ms/step - loss: 0.3795 - accuracy: 0.8284 - val_loss: 0.4508 - val_accuracy: 0.8010\n",
      "Epoch 14/25\n",
      "250/250 [==============================] - 41s 166ms/step - loss: 0.3657 - accuracy: 0.8324 - val_loss: 0.4686 - val_accuracy: 0.7985\n",
      "Epoch 15/25\n",
      "250/250 [==============================] - 42s 167ms/step - loss: 0.3563 - accuracy: 0.8430 - val_loss: 0.4532 - val_accuracy: 0.8000\n",
      "Epoch 16/25\n",
      "250/250 [==============================] - 42s 167ms/step - loss: 0.3458 - accuracy: 0.8457 - val_loss: 0.4364 - val_accuracy: 0.8030\n",
      "Epoch 17/25\n",
      "250/250 [==============================] - 42s 166ms/step - loss: 0.3396 - accuracy: 0.8484 - val_loss: 0.4718 - val_accuracy: 0.8010\n",
      "Epoch 18/25\n",
      "250/250 [==============================] - 41s 166ms/step - loss: 0.3212 - accuracy: 0.8611 - val_loss: 0.4950 - val_accuracy: 0.7875\n",
      "Epoch 19/25\n",
      "250/250 [==============================] - 42s 166ms/step - loss: 0.3081 - accuracy: 0.8648 - val_loss: 0.5056 - val_accuracy: 0.7910\n",
      "Epoch 20/25\n",
      "250/250 [==============================] - 42s 166ms/step - loss: 0.2911 - accuracy: 0.8754 - val_loss: 0.4863 - val_accuracy: 0.8050\n",
      "Epoch 21/25\n",
      "250/250 [==============================] - 41s 165ms/step - loss: 0.2801 - accuracy: 0.8792 - val_loss: 0.4748 - val_accuracy: 0.8100\n",
      "Epoch 22/25\n",
      "250/250 [==============================] - 42s 168ms/step - loss: 0.2742 - accuracy: 0.8882 - val_loss: 0.5232 - val_accuracy: 0.7890\n",
      "Epoch 23/25\n",
      "250/250 [==============================] - 42s 167ms/step - loss: 0.2577 - accuracy: 0.8917 - val_loss: 0.5228 - val_accuracy: 0.7965\n",
      "Epoch 24/25\n",
      "250/250 [==============================] - 42s 166ms/step - loss: 0.2431 - accuracy: 0.8974 - val_loss: 0.4853 - val_accuracy: 0.8200\n",
      "Epoch 25/25\n",
      "250/250 [==============================] - 42s 167ms/step - loss: 0.2399 - accuracy: 0.8971 - val_loss: 0.6264 - val_accuracy: 0.7825\n"
     ]
    },
    {
     "data": {
      "text/plain": [
       "<keras.callbacks.History at 0x7fc2da6ea3a0>"
      ]
     },
     "execution_count": 118,
     "metadata": {},
     "output_type": "execute_result"
    }
   ],
   "source": [
    "#Training the CNN\n",
    "cnn.fit(x = training_set, validation_data = test_set, epochs = 25)"
   ]
  },
  {
   "cell_type": "code",
   "execution_count": 135,
   "metadata": {},
   "outputs": [],
   "source": [
    "#Making a single prediction\n",
    "import numpy as np\n",
    "from keras.preprocessing import image\n",
    "test_image = image.load_img('CNN/dataset/single_prediction/cat_or_dog_1.jpg', target_size = (64, 64))\n",
    "test_image = image.img_to_array(test_image)\n",
    "test_image = np.expand_dims(test_image, axis = 0)\n",
    "result = cnn.predict(test_image)\n",
    "training_set.class_indices\n",
    "if result[0][0] == 1:\n",
    "  prediction = 'dog'\n",
    "else:\n",
    "  prediction = 'cat'"
   ]
  },
  {
   "cell_type": "code",
   "execution_count": 136,
   "metadata": {},
   "outputs": [
    {
     "name": "stdout",
     "output_type": "stream",
     "text": [
      "dog\n"
     ]
    }
   ],
   "source": [
    "print(prediction) #correct prediction"
   ]
  },
  {
   "cell_type": "code",
   "execution_count": null,
   "metadata": {},
   "outputs": [],
   "source": [
    "from matplotlib.colors import ListedColormap\n",
    "X_set, y_set = X_train, y_train\n",
    "X1, X2 = np.meshgrid(np.arange(start = X_set[:, 0].min() - 1, stop = X_set[:, 0].max() + 1, step = 0.01),\n",
    "                     np.arange(start = X_set[:, 1].min() - 1, stop = X_set[:, 1].max() + 1, step = 0.01))\n",
    "plt.contourf(X1, X2, classifier.predict(np.array([X1.ravel(), X2.ravel()]).T).reshape(X1.shape),\n",
    "             alpha = 0.75, cmap = ListedColormap(('red', 'green')))\n",
    "plt.xlim(X1.min(), X1.max())\n",
    "plt.ylim(X2.min(), X2.max())\n",
    "for i, j in enumerate(np.unique(y_set)):\n",
    "    plt.scatter(X_set[y_set == j, 0], X_set[y_set == j, 1],\n",
    "                c = ListedColormap(('red', 'green'))(i), label = j)\n",
    "plt.title('Kernel SVM (Training set)')\n",
    "plt.xlabel('Age')\n",
    "plt.ylabel('Estimated Salary')\n",
    "plt.legend()\n",
    "plt.show()"
   ]
  },
  {
   "cell_type": "code",
   "execution_count": null,
   "metadata": {},
   "outputs": [],
   "source": []
  }
 ],
 "metadata": {
  "kernelspec": {
   "display_name": "Python 3",
   "language": "python",
   "name": "python3"
  },
  "language_info": {
   "codemirror_mode": {
    "name": "ipython",
    "version": 3
   },
   "file_extension": ".py",
   "mimetype": "text/x-python",
   "name": "python",
   "nbconvert_exporter": "python",
   "pygments_lexer": "ipython3",
   "version": "3.8.5"
  }
 },
 "nbformat": 4,
 "nbformat_minor": 4
}
